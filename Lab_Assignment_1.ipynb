{
  "nbformat": 4,
  "nbformat_minor": 0,
  "metadata": {
    "colab": {
      "provenance": []
    },
    "kernelspec": {
      "name": "python3",
      "display_name": "Python 3"
    },
    "language_info": {
      "name": "python"
    }
  },
  "cells": [
    {
      "cell_type": "markdown",
      "source": [],
      "metadata": {
        "id": "t-QgEFvP7lZn"
      }
    },
    {
      "cell_type": "markdown",
      "source": [
        "**Simple Calculations**"
      ],
      "metadata": {
        "id": "GaSLDjc-7nTz"
      }
    },
    {
      "cell_type": "code",
      "execution_count": null,
      "metadata": {
        "colab": {
          "base_uri": "https://localhost:8080/"
        },
        "id": "vPgwLsq15qI6",
        "outputId": "dc69c848-5f37-46e3-e35e-2ab46e6ab341"
      },
      "outputs": [
        {
          "output_type": "execute_result",
          "data": {
            "text/plain": [
              "5.833333333333333"
            ]
          },
          "metadata": {},
          "execution_count": 1
        }
      ],
      "source": [
        "35.0/6"
      ]
    },
    {
      "cell_type": "code",
      "source": [
        "3.14*5"
      ],
      "metadata": {
        "colab": {
          "base_uri": "https://localhost:8080/"
        },
        "id": "37gcl5oH6Kkg",
        "outputId": "e70a573b-cf2f-4dba-a4e8-495f3f23d528"
      },
      "execution_count": null,
      "outputs": [
        {
          "output_type": "execute_result",
          "data": {
            "text/plain": [
              "15.700000000000001"
            ]
          },
          "metadata": {},
          "execution_count": 2
        }
      ]
    },
    {
      "cell_type": "markdown",
      "source": [
        "**4. Using variables**"
      ],
      "metadata": {
        "id": "0nHmv9USA6Xe"
      }
    },
    {
      "cell_type": "code",
      "source": [
        "#Addition Operation\n",
        "a=2.0\n",
        "b = 3.36\n",
        "a+b"
      ],
      "metadata": {
        "colab": {
          "base_uri": "https://localhost:8080/"
        },
        "id": "MihNI58CA9_W",
        "outputId": "7272f081-423f-4295-b97a-d0eaf7ef9d62"
      },
      "execution_count": null,
      "outputs": [
        {
          "output_type": "execute_result",
          "data": {
            "text/plain": [
              "5.359999999999999"
            ]
          },
          "metadata": {},
          "execution_count": 35
        }
      ]
    },
    {
      "cell_type": "code",
      "source": [
        "#Subraction Operation\n",
        "a-b"
      ],
      "metadata": {
        "colab": {
          "base_uri": "https://localhost:8080/"
        },
        "id": "unmw2MdlBHFA",
        "outputId": "c2eba08f-5511-40db-e441-1edf2482b9e3"
      },
      "execution_count": null,
      "outputs": [
        {
          "output_type": "execute_result",
          "data": {
            "text/plain": [
              "-1.3599999999999999"
            ]
          },
          "metadata": {},
          "execution_count": 38
        }
      ]
    },
    {
      "cell_type": "code",
      "source": [
        "#Multiplication Operator\n",
        "a**2 + b**2"
      ],
      "metadata": {
        "colab": {
          "base_uri": "https://localhost:8080/"
        },
        "id": "pnthwdVJBKmM",
        "outputId": "c788fdf1-5824-4e19-82da-7142f0731386"
      },
      "execution_count": null,
      "outputs": [
        {
          "output_type": "execute_result",
          "data": {
            "text/plain": [
              "15.289599999999998"
            ]
          },
          "metadata": {},
          "execution_count": 39
        }
      ]
    },
    {
      "cell_type": "code",
      "source": [
        "#Greater than Operator\n",
        "a>b"
      ],
      "metadata": {
        "colab": {
          "base_uri": "https://localhost:8080/"
        },
        "id": "2x1tqSl0BP4x",
        "outputId": "0a9ffeed-90c2-44ef-d530-0950f848adaa"
      },
      "execution_count": null,
      "outputs": [
        {
          "output_type": "execute_result",
          "data": {
            "text/plain": [
              "False"
            ]
          },
          "metadata": {},
          "execution_count": 40
        }
      ]
    },
    {
      "cell_type": "markdown",
      "source": [
        "**5. Mathematical Functions**"
      ],
      "metadata": {
        "id": "ZuJQ7zKu9Fbt"
      }
    },
    {
      "cell_type": "code",
      "source": [
        "from math import *\n",
        "sqrt(2)"
      ],
      "metadata": {
        "colab": {
          "base_uri": "https://localhost:8080/"
        },
        "id": "m4JodL2i9KBD",
        "outputId": "042eaf53-178c-40b5-9ca6-87b0c95f6e57"
      },
      "execution_count": null,
      "outputs": [
        {
          "output_type": "execute_result",
          "data": {
            "text/plain": [
              "1.4142135623730951"
            ]
          },
          "metadata": {},
          "execution_count": 11
        }
      ]
    },
    {
      "cell_type": "markdown",
      "source": [
        "In this section, it performs the calculation of finding the square root of the integer."
      ],
      "metadata": {
        "id": "mHe-Kiu29QTS"
      }
    },
    {
      "cell_type": "code",
      "source": [
        "from math import *\n",
        "diameter = 5\n",
        "perimeter = 2 * pi * diameter\n",
        "perimeter"
      ],
      "metadata": {
        "colab": {
          "base_uri": "https://localhost:8080/"
        },
        "id": "C5KpmJVt9gS0",
        "outputId": "055ac71e-2d22-470b-a90b-f94af1176b36"
      },
      "execution_count": null,
      "outputs": [
        {
          "output_type": "execute_result",
          "data": {
            "text/plain": [
              "31.41592653589793"
            ]
          },
          "metadata": {},
          "execution_count": 12
        }
      ]
    },
    {
      "cell_type": "markdown",
      "source": [
        "In this section, it performs the calculation of finding the perimeter of the circle by using the diameter."
      ],
      "metadata": {
        "id": "yn84FpZ_9kyE"
      }
    },
    {
      "cell_type": "code",
      "source": [
        "from math import *\n",
        "Ueff = 230\n",
        "amplitude = Ueff * sqrt(2)\n",
        "amplitude"
      ],
      "metadata": {
        "colab": {
          "base_uri": "https://localhost:8080/"
        },
        "id": "_ok7VzOm938A",
        "outputId": "00d14fc4-176e-4abb-dd84-af116d2fd465"
      },
      "execution_count": null,
      "outputs": [
        {
          "output_type": "execute_result",
          "data": {
            "text/plain": [
              "325.2691193458119"
            ]
          },
          "metadata": {},
          "execution_count": 13
        }
      ]
    },
    {
      "cell_type": "markdown",
      "source": [
        "In this section, it performs the calculation of finding the amplitude of a sine wave."
      ],
      "metadata": {
        "id": "otmxPec_9foe"
      }
    },
    {
      "cell_type": "markdown",
      "source": [
        "**7. A Simple Program**"
      ],
      "metadata": {
        "id": "qqXVknBE6l85"
      }
    },
    {
      "cell_type": "markdown",
      "source": [],
      "metadata": {
        "id": "PBj5SFX08vBY"
      }
    },
    {
      "cell_type": "code",
      "source": [
        "from math import *\n",
        "d = 10.0 # diameter\n",
        "A = pi * d**2 / 4\n",
        "print(\"diameter =\", d)\n",
        "print(\"area = \", A)"
      ],
      "metadata": {
        "colab": {
          "base_uri": "https://localhost:8080/"
        },
        "id": "v-ffwLQm6rsK",
        "outputId": "f2d017a6-1451-4856-a146-b8263f135f97"
      },
      "execution_count": null,
      "outputs": [
        {
          "output_type": "stream",
          "name": "stdout",
          "text": [
            "diameter = 10.0\n",
            "area =  78.53981633974483\n"
          ]
        }
      ]
    },
    {
      "cell_type": "markdown",
      "source": [
        "Here, We can see that the given diameter and the resultantl area is 10"
      ],
      "metadata": {
        "id": "_GlkL26_6_Mc"
      }
    },
    {
      "cell_type": "markdown",
      "source": [
        "**8. User input**"
      ],
      "metadata": {
        "id": "ZFir5nWi7MOW"
      }
    },
    {
      "cell_type": "code",
      "source": [
        "s = input(\"What is your name?\")\n",
        "print(\"HELLO \", s)"
      ],
      "metadata": {
        "colab": {
          "base_uri": "https://localhost:8080/"
        },
        "id": "_YgiPWrV7M-Q",
        "outputId": "6ae12ed7-1942-4dde-b0d7-21a1bf0436c0"
      },
      "execution_count": null,
      "outputs": [
        {
          "output_type": "stream",
          "name": "stdout",
          "text": [
            "What is your name?Chandu\n",
            "HELLO  Chandu\n"
          ]
        }
      ]
    },
    {
      "cell_type": "markdown",
      "source": [
        "In this Section, We can observe that it takes the input from the user and displays the response."
      ],
      "metadata": {
        "id": "BA4hP97r55Vc"
      }
    },
    {
      "cell_type": "markdown",
      "source": [
        "**9. Variables and Objects**"
      ],
      "metadata": {
        "id": "vIaHbyYQ8w-F"
      }
    },
    {
      "cell_type": "code",
      "source": [
        "d = 10.0\n",
        "print(type(d))"
      ],
      "metadata": {
        "colab": {
          "base_uri": "https://localhost:8080/"
        },
        "id": "CbQzmXMb8zOr",
        "outputId": "619b6a20-cb45-448f-a149-02e4e8e31d88"
      },
      "execution_count": null,
      "outputs": [
        {
          "output_type": "stream",
          "name": "stdout",
          "text": [
            "<class 'float'>\n"
          ]
        }
      ]
    },
    {
      "cell_type": "code",
      "source": [
        "a = 5\n",
        "print(type(a))"
      ],
      "metadata": {
        "colab": {
          "base_uri": "https://localhost:8080/"
        },
        "id": "tOEurk8F-eNA",
        "outputId": "47d8f29a-3caf-4562-b452-aba9153d1700"
      },
      "execution_count": null,
      "outputs": [
        {
          "output_type": "stream",
          "name": "stdout",
          "text": [
            "<class 'int'>\n"
          ]
        }
      ]
    },
    {
      "cell_type": "code",
      "source": [
        "b = 3.14\n",
        "print(type(b))"
      ],
      "metadata": {
        "colab": {
          "base_uri": "https://localhost:8080/"
        },
        "id": "p-95jMdl-l8k",
        "outputId": "65e0d44d-003c-4804-c1b0-814209ada30a"
      },
      "execution_count": null,
      "outputs": [
        {
          "output_type": "stream",
          "name": "stdout",
          "text": [
            "<class 'float'>\n"
          ]
        }
      ]
    },
    {
      "cell_type": "code",
      "source": [
        "c = 3 + 5j\n",
        "print(type(c))"
      ],
      "metadata": {
        "colab": {
          "base_uri": "https://localhost:8080/"
        },
        "id": "aj6LdWxW-sO4",
        "outputId": "161324da-2aab-436b-95f3-50d01cb8d42d"
      },
      "execution_count": null,
      "outputs": [
        {
          "output_type": "stream",
          "name": "stdout",
          "text": [
            "<class 'complex'>\n"
          ]
        }
      ]
    },
    {
      "cell_type": "code",
      "source": [
        "c= complex(3,5)\n",
        "print(type(c))"
      ],
      "metadata": {
        "colab": {
          "base_uri": "https://localhost:8080/"
        },
        "id": "m_61outx-9oy",
        "outputId": "2418e090-1990-4c84-fe6e-f1e0daefe424"
      },
      "execution_count": null,
      "outputs": [
        {
          "output_type": "stream",
          "name": "stdout",
          "text": [
            "<class 'complex'>\n"
          ]
        }
      ]
    },
    {
      "cell_type": "code",
      "source": [
        "d = chr(65)\n",
        "print(type(d))"
      ],
      "metadata": {
        "colab": {
          "base_uri": "https://localhost:8080/"
        },
        "id": "rST8hNHR-1ed",
        "outputId": "53e8df6f-c907-4dcc-efa1-17843ba3d9a1"
      },
      "execution_count": null,
      "outputs": [
        {
          "output_type": "stream",
          "name": "stdout",
          "text": [
            "<class 'str'>\n"
          ]
        }
      ]
    },
    {
      "cell_type": "code",
      "source": [
        "d = 'A'\n",
        "print(type(d))"
      ],
      "metadata": {
        "colab": {
          "base_uri": "https://localhost:8080/"
        },
        "id": "YNC8RfRz_KYz",
        "outputId": "93b9751f-8f99-4e68-ec11-d04e058524b7"
      },
      "execution_count": null,
      "outputs": [
        {
          "output_type": "stream",
          "name": "stdout",
          "text": [
            "<class 'str'>\n"
          ]
        }
      ]
    },
    {
      "cell_type": "code",
      "source": [
        "d = \"A\"\n",
        "print(type(d))"
      ],
      "metadata": {
        "colab": {
          "base_uri": "https://localhost:8080/"
        },
        "id": "0--aN5Nr_Xxt",
        "outputId": "6fa1a8ac-bedc-4a99-a0f3-dfaa4291ef3b"
      },
      "execution_count": null,
      "outputs": [
        {
          "output_type": "stream",
          "name": "stdout",
          "text": [
            "<class 'str'>\n"
          ]
        }
      ]
    },
    {
      "cell_type": "markdown",
      "source": [
        "In this Section by appling all these we've observed that data types that they're allocated."
      ],
      "metadata": {
        "id": "b7ir_Stl_kxy"
      }
    },
    {
      "cell_type": "markdown",
      "source": [
        "**10. Input with data conversion**"
      ],
      "metadata": {
        "id": "ZrN8sruRAshT"
      }
    },
    {
      "cell_type": "code",
      "source": [
        "x = int(input(\"Input an integer: \"))\n",
        "y = float(input(\"Input a float: \"))\n",
        "print(x, y)"
      ],
      "metadata": {
        "colab": {
          "base_uri": "https://localhost:8080/"
        },
        "id": "LW0sNDKh_aq4",
        "outputId": "090a424e-c62c-464c-ab3f-1e08f85f9751"
      },
      "execution_count": null,
      "outputs": [
        {
          "output_type": "stream",
          "name": "stdout",
          "text": [
            "Input an integer: 2\n",
            "Input a float: 35.0\n",
            "2 35.0\n"
          ]
        }
      ]
    },
    {
      "cell_type": "markdown",
      "source": [
        "In this section, If we give the correct of these allocated data types then it takes the input or else it returns an error."
      ],
      "metadata": {
        "id": "emb8aqQDAG0y"
      }
    },
    {
      "cell_type": "code",
      "source": [
        "from math import *\n",
        "d = float(input(\"Diameter: \"))\n",
        "A = pi * d**2 / 4\n",
        "print(\"Area = \", A)"
      ],
      "metadata": {
        "colab": {
          "base_uri": "https://localhost:8080/"
        },
        "id": "zbgqQiTNAYfG",
        "outputId": "c5ae71ea-b6f7-4f9d-e802-7a0f1473d0c1"
      },
      "execution_count": null,
      "outputs": [
        {
          "output_type": "stream",
          "name": "stdout",
          "text": [
            "Diameter: 25\n",
            "Area =  490.8738521234052\n"
          ]
        }
      ]
    },
    {
      "cell_type": "markdown",
      "source": [
        "Here it calculates the area of the circle by taking the diameter as input"
      ],
      "metadata": {
        "id": "jkCHy1tHAkQS"
      }
    },
    {
      "cell_type": "markdown",
      "source": [
        "**11. While loops**"
      ],
      "metadata": {
        "id": "emu27BfoBmTj"
      }
    },
    {
      "cell_type": "code",
      "source": [
        "\"\"\" Calculate quare root of numbers 0 to 100\"\"\"\n",
        "from math import *\n",
        "i = 0\n",
        "while i<= 100:\n",
        "  print(i, \"\\t\\t\" , sqrt(i))\n",
        "  i = i + 1\n",
        "print(\"READY!\")"
      ],
      "metadata": {
        "colab": {
          "base_uri": "https://localhost:8080/"
        },
        "id": "OV84iVFZBoxf",
        "outputId": "d7da4049-aaa9-48bc-b876-e92774c62e01"
      },
      "execution_count": null,
      "outputs": [
        {
          "output_type": "stream",
          "name": "stdout",
          "text": [
            "0 \t\t 0.0\n",
            "1 \t\t 1.0\n",
            "2 \t\t 1.4142135623730951\n",
            "3 \t\t 1.7320508075688772\n",
            "4 \t\t 2.0\n",
            "5 \t\t 2.23606797749979\n",
            "6 \t\t 2.449489742783178\n",
            "7 \t\t 2.6457513110645907\n",
            "8 \t\t 2.8284271247461903\n",
            "9 \t\t 3.0\n",
            "10 \t\t 3.1622776601683795\n",
            "11 \t\t 3.3166247903554\n",
            "12 \t\t 3.4641016151377544\n",
            "13 \t\t 3.605551275463989\n",
            "14 \t\t 3.7416573867739413\n",
            "15 \t\t 3.872983346207417\n",
            "16 \t\t 4.0\n",
            "17 \t\t 4.123105625617661\n",
            "18 \t\t 4.242640687119285\n",
            "19 \t\t 4.358898943540674\n",
            "20 \t\t 4.47213595499958\n",
            "21 \t\t 4.58257569495584\n",
            "22 \t\t 4.69041575982343\n",
            "23 \t\t 4.795831523312719\n",
            "24 \t\t 4.898979485566356\n",
            "25 \t\t 5.0\n",
            "26 \t\t 5.0990195135927845\n",
            "27 \t\t 5.196152422706632\n",
            "28 \t\t 5.291502622129181\n",
            "29 \t\t 5.385164807134504\n",
            "30 \t\t 5.477225575051661\n",
            "31 \t\t 5.5677643628300215\n",
            "32 \t\t 5.656854249492381\n",
            "33 \t\t 5.744562646538029\n",
            "34 \t\t 5.830951894845301\n",
            "35 \t\t 5.916079783099616\n",
            "36 \t\t 6.0\n",
            "37 \t\t 6.082762530298219\n",
            "38 \t\t 6.164414002968976\n",
            "39 \t\t 6.244997998398398\n",
            "40 \t\t 6.324555320336759\n",
            "41 \t\t 6.4031242374328485\n",
            "42 \t\t 6.48074069840786\n",
            "43 \t\t 6.557438524302\n",
            "44 \t\t 6.6332495807108\n",
            "45 \t\t 6.708203932499369\n",
            "46 \t\t 6.782329983125268\n",
            "47 \t\t 6.855654600401044\n",
            "48 \t\t 6.928203230275509\n",
            "49 \t\t 7.0\n",
            "50 \t\t 7.0710678118654755\n",
            "51 \t\t 7.14142842854285\n",
            "52 \t\t 7.211102550927978\n",
            "53 \t\t 7.280109889280518\n",
            "54 \t\t 7.3484692283495345\n",
            "55 \t\t 7.416198487095663\n",
            "56 \t\t 7.483314773547883\n",
            "57 \t\t 7.54983443527075\n",
            "58 \t\t 7.615773105863909\n",
            "59 \t\t 7.681145747868608\n",
            "60 \t\t 7.745966692414834\n",
            "61 \t\t 7.810249675906654\n",
            "62 \t\t 7.874007874011811\n",
            "63 \t\t 7.937253933193772\n",
            "64 \t\t 8.0\n",
            "65 \t\t 8.06225774829855\n",
            "66 \t\t 8.12403840463596\n",
            "67 \t\t 8.18535277187245\n",
            "68 \t\t 8.246211251235321\n",
            "69 \t\t 8.306623862918075\n",
            "70 \t\t 8.366600265340756\n",
            "71 \t\t 8.426149773176359\n",
            "72 \t\t 8.48528137423857\n",
            "73 \t\t 8.54400374531753\n",
            "74 \t\t 8.602325267042627\n",
            "75 \t\t 8.660254037844387\n",
            "76 \t\t 8.717797887081348\n",
            "77 \t\t 8.774964387392123\n",
            "78 \t\t 8.831760866327848\n",
            "79 \t\t 8.888194417315589\n",
            "80 \t\t 8.94427190999916\n",
            "81 \t\t 9.0\n",
            "82 \t\t 9.055385138137417\n",
            "83 \t\t 9.1104335791443\n",
            "84 \t\t 9.16515138991168\n",
            "85 \t\t 9.219544457292887\n",
            "86 \t\t 9.273618495495704\n",
            "87 \t\t 9.327379053088816\n",
            "88 \t\t 9.38083151964686\n",
            "89 \t\t 9.433981132056603\n",
            "90 \t\t 9.486832980505138\n",
            "91 \t\t 9.539392014169456\n",
            "92 \t\t 9.591663046625438\n",
            "93 \t\t 9.643650760992955\n",
            "94 \t\t 9.695359714832659\n",
            "95 \t\t 9.746794344808963\n",
            "96 \t\t 9.797958971132712\n",
            "97 \t\t 9.848857801796104\n",
            "98 \t\t 9.899494936611665\n",
            "99 \t\t 9.9498743710662\n",
            "100 \t\t 10.0\n",
            "READY!\n"
          ]
        }
      ]
    },
    {
      "cell_type": "markdown",
      "source": [
        "By using the while loop it Backtracks until the value is reached, Here the value of i is less than 10, Here we should avoid infinite loop."
      ],
      "metadata": {
        "id": "f9QwShi3B25u"
      }
    },
    {
      "cell_type": "markdown",
      "source": [
        "**12. Testing conditions: if, elif, else**"
      ],
      "metadata": {
        "id": "6iKizz8bCcMZ"
      }
    },
    {
      "cell_type": "code",
      "source": [
        "s = input (\"Input your name: \")\n",
        "\n",
        "if s == \"Tom\":\n",
        "  print(\"HELLO \", s)"
      ],
      "metadata": {
        "colab": {
          "base_uri": "https://localhost:8080/"
        },
        "id": "f4u4tKOICeYj",
        "outputId": "f6d62f49-a12a-4408-dc2c-c3a1073c70e6"
      },
      "execution_count": null,
      "outputs": [
        {
          "output_type": "stream",
          "name": "stdout",
          "text": [
            "Input your name: Tom\n",
            "HELLO  Tom\n"
          ]
        }
      ]
    },
    {
      "cell_type": "code",
      "source": [
        "s = input (\"Input your name: \")\n",
        "if s == \"Tom\":\n",
        "  print(\"Hello \", s)\n",
        "else:\n",
        "  print(\"Hello unknown\")"
      ],
      "metadata": {
        "colab": {
          "base_uri": "https://localhost:8080/"
        },
        "id": "E9VY-nb-Cf_w",
        "outputId": "58453c5e-1f04-4bec-e37e-2fe77a187d5a"
      },
      "execution_count": null,
      "outputs": [
        {
          "output_type": "stream",
          "name": "stdout",
          "text": [
            "Input your name: Jerry\n",
            "Hello unknown\n"
          ]
        }
      ]
    },
    {
      "cell_type": "code",
      "source": [
        "s = input (\"Input your name: \")\n",
        "if s == \"Tom\":\n",
        "  print(\"Hello \", s)\n",
        "elif s == \"Carmen\":\n",
        "  print(\"I'm so glad to see you \", s)\n",
        "elif s == \"Sonia\":\n",
        "  print(\"I didn't expect you \",s)\n",
        "else:\n",
        "  print(\"Hello unknown\")"
      ],
      "metadata": {
        "colab": {
          "base_uri": "https://localhost:8080/"
        },
        "id": "10UBIZ1jCiJu",
        "outputId": "571044de-0af0-4b41-b875-d71d73b70949"
      },
      "execution_count": null,
      "outputs": [
        {
          "output_type": "stream",
          "name": "stdout",
          "text": [
            "Input your name: Sonia\n",
            "I didn't expect you  Sonia\n"
          ]
        }
      ]
    },
    {
      "cell_type": "markdown",
      "source": [
        "Here the expexted outputs by the user were defined so whatelse we've given as input statement of the respective input then those gets printed.\n",
        "Note the indentation and the \":\" behind the if, elif and else statements!"
      ],
      "metadata": {
        "id": "KWsM-2_XDOJT"
      }
    },
    {
      "cell_type": "markdown",
      "source": [
        "**13. Tuples**"
      ],
      "metadata": {
        "id": "5Dv1oZOzDmXA"
      }
    },
    {
      "cell_type": "code",
      "source": [
        "(x,y) = (5, 3)\n",
        "coordinates = (x,y)\n",
        "print(coordinates)\n",
        "dimensions = (8, 5.0, 3.14)\n",
        "print(dimensions)\n",
        "print(dimensions[0])\n",
        "print(dimensions[1])\n",
        "print(dimensions[2])"
      ],
      "metadata": {
        "colab": {
          "base_uri": "https://localhost:8080/"
        },
        "id": "lF3aP0MwDoy3",
        "outputId": "503fdf8b-dfa1-45d2-ebe8-2b014657f954"
      },
      "execution_count": null,
      "outputs": [
        {
          "output_type": "stream",
          "name": "stdout",
          "text": [
            "(5, 3)\n",
            "(8, 5.0, 3.14)\n",
            "8\n",
            "5.0\n",
            "3.14\n"
          ]
        }
      ]
    },
    {
      "cell_type": "markdown",
      "source": [
        "By taking the given coordinates, here it prints the dimnesions using the tuple data type.\n",
        "The brackets may be omitted, so it doesn't matter if you write x, y or (x, y)"
      ],
      "metadata": {
        "id": "pirSoZrDD0xE"
      }
    },
    {
      "cell_type": "markdown",
      "source": [
        "**14. Lists (arrays)**"
      ],
      "metadata": {
        "id": "0fVNgZKgEFOG"
      }
    },
    {
      "cell_type": "code",
      "source": [
        "nameslist = [\"Sam\", \"Lisy\", \"Pit\"]\n",
        "numberslist = [1, 2, 3.14]\n",
        "mixedlist = [\"ham\", 'eggs', 3.14, 5]"
      ],
      "metadata": {
        "id": "Duw3oKLCEGrL"
      },
      "execution_count": null,
      "outputs": []
    },
    {
      "cell_type": "code",
      "source": [
        "a=[0,1,2]\n",
        "print(a)\n",
        "a.append(5)\n",
        "a.append( \"Zapzoo\")\n",
        "print(a)"
      ],
      "metadata": {
        "colab": {
          "base_uri": "https://localhost:8080/"
        },
        "id": "F9wojvc5EJhR",
        "outputId": "fbf4b9e9-14a8-48e2-d31d-c0a5f2d9dbbf"
      },
      "execution_count": null,
      "outputs": [
        {
          "output_type": "stream",
          "name": "stdout",
          "text": [
            "[0, 1, 2]\n",
            "[0, 1, 2, 5, 'Zapzoo']\n"
          ]
        }
      ]
    },
    {
      "cell_type": "markdown",
      "source": [
        "By using the lists the're appended.\n",
        "\n",
        "Unlike other programming languages Python's arrays may contain different types of objects in one list."
      ],
      "metadata": {
        "id": "fEkM0mDEERdJ"
      }
    },
    {
      "cell_type": "code",
      "source": [
        "x=[] #An empty list\n",
        "y= [0]*10 # array of integers with 10 zero elements\n",
        "z = [0.0]*20 # array of floats with 20 zero elements\n",
        "a=[0,1,2]\n",
        "print(len(a))"
      ],
      "metadata": {
        "colab": {
          "base_uri": "https://localhost:8080/"
        },
        "id": "ao-knG9AHQpS",
        "outputId": "7731c0d7-cd71-43b7-bb07-54e1bc0fc0ad"
      },
      "execution_count": null,
      "outputs": [
        {
          "output_type": "stream",
          "name": "stdout",
          "text": [
            "3\n"
          ]
        }
      ]
    },
    {
      "cell_type": "markdown",
      "source": [
        "Here to find the length of a, we've used len function."
      ],
      "metadata": {
        "id": "nw8P0FNeHe6-"
      }
    },
    {
      "cell_type": "code",
      "source": [
        "mylist = [\"black\", \"red\", \"orange\"]\n",
        "print(mylist[0])\n",
        "print(mylist[1])\n",
        "print(mylist[2])"
      ],
      "metadata": {
        "colab": {
          "base_uri": "https://localhost:8080/"
        },
        "id": "Z_0VoW9OHqXG",
        "outputId": "67d5ffd6-e905-4ed7-f619-7b4e0ec3f869"
      },
      "execution_count": null,
      "outputs": [
        {
          "output_type": "stream",
          "name": "stdout",
          "text": [
            "black\n",
            "red\n",
            "orange\n"
          ]
        }
      ]
    },
    {
      "cell_type": "markdown",
      "source": [
        "Here By using the index the items which are present in the list can be accessed."
      ],
      "metadata": {
        "id": "Zz-pDS5YHeJd"
      }
    },
    {
      "cell_type": "markdown",
      "source": [
        "**15. Range: producing lists of integer numbers**"
      ],
      "metadata": {
        "id": "4vrefi28ISLy"
      }
    },
    {
      "cell_type": "code",
      "source": [
        "\"\"\"\" range gives a list of int numbers\n",
        "note that end value is NOT included! \"\"\"\n",
        "r1 = range(11) # 0...10\n",
        "print(r1) # [0, 1, 2, 3, 4, 5, 6, 7, 8, 9, 10]\n",
        "r2 = range(5,16) # 5...15\n",
        "print(r2) # [5, 6, 7, 8, 9, 10, 11, 12, 13, 14, 15]\n",
        "r3 = range(4,21,2) # 4...20 step 2\n",
        "print(r3) # [4, 6, 8, 10, 12, 14, 16, 18, 20]\n",
        "r4 = range(15, 4, -5) # 15....5 step -5\n",
        "print(r4) # [15, 10, 5]"
      ],
      "metadata": {
        "colab": {
          "base_uri": "https://localhost:8080/"
        },
        "id": "4bC9mqylIVEM",
        "outputId": "4c4ee036-624f-4c8f-9d9e-4e394bbea038"
      },
      "execution_count": null,
      "outputs": [
        {
          "output_type": "stream",
          "name": "stdout",
          "text": [
            "range(0, 11)\n",
            "range(5, 16)\n",
            "range(4, 21, 2)\n",
            "range(15, 4, -5)\n"
          ]
        }
      ]
    },
    {
      "cell_type": "markdown",
      "source": [
        "Here it prints the maximunm and minimum range of the int numbers(From begining to end)\n",
        "\n",
        "A strange (and somewhat illogical) detail of the range function is that the end value is\n",
        "excluded from the resulting list!\n",
        "\n",
        "The range function only works for integers!"
      ],
      "metadata": {
        "id": "iPCYEx9CIhX1"
      }
    },
    {
      "cell_type": "markdown",
      "source": [
        "**16. Producing lists of floating point numbers**"
      ],
      "metadata": {
        "id": "uGEdpkzSarSh"
      }
    },
    {
      "cell_type": "code",
      "source": [
        "\"\"\" for floating point numbers use linspace and logspace from numpy!\"\"\"\n",
        "import numpy as np\n",
        "r5 = np.linspace(0,2,9)\n",
        "print(r5)"
      ],
      "metadata": {
        "colab": {
          "base_uri": "https://localhost:8080/"
        },
        "id": "DCv3b01-atzY",
        "outputId": "662558ab-2992-4fe3-c2f4-1f00ad887412"
      },
      "execution_count": null,
      "outputs": [
        {
          "output_type": "stream",
          "name": "stdout",
          "text": [
            "[0.   0.25 0.5  0.75 1.   1.25 1.5  1.75 2.  ]\n"
          ]
        }
      ]
    },
    {
      "cell_type": "markdown",
      "source": [
        "Using the line space and log space from numpy module which are useful for technical and scientific applications\n",
        "\n",
        "we use a slightly different method of import that avoids confusion between names of variables and numpy\n",
        "funtions. There are 3 ways to import functions from a module."
      ],
      "metadata": {
        "id": "KILr3PYva8w1"
      }
    },
    {
      "cell_type": "code",
      "source": [
        "r6 = np.logspace(2, 3, 9)\n",
        "print(r6)"
      ],
      "metadata": {
        "colab": {
          "base_uri": "https://localhost:8080/"
        },
        "id": "LebYMEbFbOWP",
        "outputId": "e91d152b-db5f-45f2-d7d1-ed6fdc7b4979"
      },
      "execution_count": null,
      "outputs": [
        {
          "output_type": "stream",
          "name": "stdout",
          "text": [
            "[ 100.          133.35214322  177.827941    237.13737057  316.22776602\n",
            "  421.69650343  562.34132519  749.89420933 1000.        ]\n"
          ]
        }
      ]
    },
    {
      "cell_type": "markdown",
      "source": [
        "This example gives 9 logarithmically spaced values between 100 = 10^2 and 1000 = 10^3\n",
        ":"
      ],
      "metadata": {
        "id": "Npse_u9ibnKq"
      }
    },
    {
      "cell_type": "markdown",
      "source": [
        "**17. Iterating through a list: the for loop**"
      ],
      "metadata": {
        "id": "DXZoIUINb1OA"
      }
    },
    {
      "cell_type": "code",
      "source": [
        "mynames = [ \"Sam\", \"Pit\", \"Misch\" ]\n",
        "for n in mynames:\n",
        "  print(\"HELLO \", n)"
      ],
      "metadata": {
        "colab": {
          "base_uri": "https://localhost:8080/"
        },
        "id": "MUqnVWIxb42v",
        "outputId": "af462582-2d74-4402-f83c-64c10e3e3b6f"
      },
      "execution_count": null,
      "outputs": [
        {
          "output_type": "stream",
          "name": "stdout",
          "text": [
            "HELLO  Sam\n",
            "HELLO  Pit\n",
            "HELLO  Misch\n"
          ]
        }
      ]
    },
    {
      "cell_type": "markdown",
      "source": [
        "If we must interact with all the elements of a list one after the other, we use a for loop."
      ],
      "metadata": {
        "id": "OEG11ELccEqp"
      }
    },
    {
      "cell_type": "code",
      "source": [
        "from math import *\n",
        "for i in range (0, 5):\n",
        "  print(i, \"\\t\", sqrt(i))"
      ],
      "metadata": {
        "colab": {
          "base_uri": "https://localhost:8080/"
        },
        "id": "S_cOiE4Hckfg",
        "outputId": "e567ea3c-b3e7-4691-c3d6-09da54ec0f33"
      },
      "execution_count": null,
      "outputs": [
        {
          "output_type": "stream",
          "name": "stdout",
          "text": [
            "0 \t 0.0\n",
            "1 \t 1.0\n",
            "2 \t 1.4142135623730951\n",
            "3 \t 1.7320508075688772\n",
            "4 \t 2.0\n"
          ]
        }
      ]
    },
    {
      "cell_type": "markdown",
      "source": [
        "The Same above done can also be able to do with numbers."
      ],
      "metadata": {
        "id": "S-6SEMQdc1pG"
      }
    },
    {
      "cell_type": "markdown",
      "source": [
        "**18. Iterating with indexing**"
      ],
      "metadata": {
        "id": "_whtowH7c_aa"
      }
    },
    {
      "cell_type": "code",
      "source": [
        "\"\"\" Dispay resistor colour code values\"\"\"\n",
        "colours = [ \"black\", \"brown\", \"red\", \"orange\", \"yellow\",\n",
        "\"green\", \"blue\", \"violet\", \"grey\",\"white\" ]\n",
        "cv = list (enumerate (colours))\n",
        "for c in cv:\n",
        "  print(c[0], \"\\t\", c[1])"
      ],
      "metadata": {
        "colab": {
          "base_uri": "https://localhost:8080/"
        },
        "id": "VHFXGg-udFt0",
        "outputId": "ee7fcf8d-67e9-4211-ef31-ac519c605ae5"
      },
      "execution_count": null,
      "outputs": [
        {
          "output_type": "stream",
          "name": "stdout",
          "text": [
            "0 \t black\n",
            "1 \t brown\n",
            "2 \t red\n",
            "3 \t orange\n",
            "4 \t yellow\n",
            "5 \t green\n",
            "6 \t blue\n",
            "7 \t violet\n",
            "8 \t grey\n",
            "9 \t white\n"
          ]
        }
      ]
    },
    {
      "cell_type": "markdown",
      "source": [
        "When we've to iterate the list and also have the access to the index, here the enumerate function gives the list of tuples cv, therfore it prints like index wise."
      ],
      "metadata": {
        "id": "nF-vwYojdO4j"
      }
    },
    {
      "cell_type": "markdown",
      "source": [
        "**19. Functions**"
      ],
      "metadata": {
        "id": "cVjbF7Med7Te"
      }
    },
    {
      "cell_type": "code",
      "source": [
        "# function definitions\n",
        "def area(b, h):\n",
        "#\"\"\" calculate area of a rectangle\"\"\"\n",
        "  A = b * h\n",
        "  return A\n",
        "def perimeter(b, h):\n",
        "#\"\"\" calulates perimeter of a rectangle\"\"\"\n",
        "  P = 2 * (b+h)\n",
        "  return P\n",
        "# main program using defined functions\n",
        "width = 5\n",
        "height = 3\n",
        "print(\"Area = \", area(width, height))\n",
        "print(\"Perimeter = \", perimeter(width, height))"
      ],
      "metadata": {
        "colab": {
          "base_uri": "https://localhost:8080/"
        },
        "id": "VWro1HDNd_9A",
        "outputId": "716b90e0-46f9-404a-9c9b-c305f1607924"
      },
      "execution_count": null,
      "outputs": [
        {
          "output_type": "stream",
          "name": "stdout",
          "text": [
            "Area =  15\n",
            "Perimeter =  16\n"
          ]
        }
      ]
    },
    {
      "cell_type": "markdown",
      "source": [
        "It is a simple program to calculate the area  and perimeter of the rectangle, Here the area and the permeter are defined as seperate blocks and the calculation by using their respective formulae are shown at the bottom."
      ],
      "metadata": {
        "id": "p7PkaWKHeWJD"
      }
    },
    {
      "cell_type": "code",
      "source": [
        "# function definition\n",
        "def area_and_perimeter (b, h):\n",
        "  A = b * h\n",
        "  P = 2 * (b+h)\n",
        "  return A, P\n",
        "# main program using defined function\n",
        "ar, per = area_and_perimeter ( 4, 3)\n",
        "print(ar)\n",
        "print(per)"
      ],
      "metadata": {
        "colab": {
          "base_uri": "https://localhost:8080/"
        },
        "id": "POKJBm44e1rc",
        "outputId": "eb4c8251-56c8-45e6-8629-3393dc6cac26"
      },
      "execution_count": null,
      "outputs": [
        {
          "output_type": "stream",
          "name": "stdout",
          "text": [
            "12\n",
            "14\n"
          ]
        }
      ]
    },
    {
      "cell_type": "markdown",
      "source": [
        "In case if a function can return more than one value and we can also observe that the return value are returned as a tuple\n",
        "and the area and perimeter are printed as output."
      ],
      "metadata": {
        "id": "KRCl1O4Se4yL"
      }
    },
    {
      "cell_type": "code",
      "source": [
        "# function definition\n",
        "def greeting():\n",
        "  print(\"HELLO\")\n",
        "# main program using defined functions\n",
        "greeting()"
      ],
      "metadata": {
        "colab": {
          "base_uri": "https://localhost:8080/"
        },
        "id": "cuhm3ddqfcU5",
        "outputId": "dc17e6b4-f000-4c3e-f6c8-c0fc3df9af0a"
      },
      "execution_count": null,
      "outputs": [
        {
          "output_type": "stream",
          "name": "stdout",
          "text": [
            "HELLO\n"
          ]
        }
      ]
    },
    {
      "cell_type": "markdown",
      "source": [
        "In case if the function doesn't need to return a  value, the return statement can simply be omitted."
      ],
      "metadata": {
        "id": "kDMRf5sKfz-v"
      }
    },
    {
      "cell_type": "markdown",
      "source": [
        "**20. Avoiding for loops: vector functions**"
      ],
      "metadata": {
        "id": "EYCTAlZKGbH2"
      }
    },
    {
      "cell_type": "code",
      "source": [
        "import numpy as np\n",
        "# calculate 100 values for x and y without a for loop\n",
        "x = np.linspace(0, 2* np.pi, 100)\n",
        "y = np.sin(x)\n",
        "print(x)\n",
        "print(y)"
      ],
      "metadata": {
        "colab": {
          "base_uri": "https://localhost:8080/"
        },
        "id": "MZafFLp6Gccc",
        "outputId": "9d0391da-d3b8-43ea-fe30-456b0045c40c"
      },
      "execution_count": null,
      "outputs": [
        {
          "output_type": "stream",
          "name": "stdout",
          "text": [
            "[0.         0.06346652 0.12693304 0.19039955 0.25386607 0.31733259\n",
            " 0.38079911 0.44426563 0.50773215 0.57119866 0.63466518 0.6981317\n",
            " 0.76159822 0.82506474 0.88853126 0.95199777 1.01546429 1.07893081\n",
            " 1.14239733 1.20586385 1.26933037 1.33279688 1.3962634  1.45972992\n",
            " 1.52319644 1.58666296 1.65012947 1.71359599 1.77706251 1.84052903\n",
            " 1.90399555 1.96746207 2.03092858 2.0943951  2.15786162 2.22132814\n",
            " 2.28479466 2.34826118 2.41172769 2.47519421 2.53866073 2.60212725\n",
            " 2.66559377 2.72906028 2.7925268  2.85599332 2.91945984 2.98292636\n",
            " 3.04639288 3.10985939 3.17332591 3.23679243 3.30025895 3.36372547\n",
            " 3.42719199 3.4906585  3.55412502 3.61759154 3.68105806 3.74452458\n",
            " 3.8079911  3.87145761 3.93492413 3.99839065 4.06185717 4.12532369\n",
            " 4.1887902  4.25225672 4.31572324 4.37918976 4.44265628 4.5061228\n",
            " 4.56958931 4.63305583 4.69652235 4.75998887 4.82345539 4.88692191\n",
            " 4.95038842 5.01385494 5.07732146 5.14078798 5.2042545  5.26772102\n",
            " 5.33118753 5.39465405 5.45812057 5.52158709 5.58505361 5.64852012\n",
            " 5.71198664 5.77545316 5.83891968 5.9023862  5.96585272 6.02931923\n",
            " 6.09278575 6.15625227 6.21971879 6.28318531]\n",
            "[ 0.00000000e+00  6.34239197e-02  1.26592454e-01  1.89251244e-01\n",
            "  2.51147987e-01  3.12033446e-01  3.71662456e-01  4.29794912e-01\n",
            "  4.86196736e-01  5.40640817e-01  5.92907929e-01  6.42787610e-01\n",
            "  6.90079011e-01  7.34591709e-01  7.76146464e-01  8.14575952e-01\n",
            "  8.49725430e-01  8.81453363e-01  9.09631995e-01  9.34147860e-01\n",
            "  9.54902241e-01  9.71811568e-01  9.84807753e-01  9.93838464e-01\n",
            "  9.98867339e-01  9.99874128e-01  9.96854776e-01  9.89821442e-01\n",
            "  9.78802446e-01  9.63842159e-01  9.45000819e-01  9.22354294e-01\n",
            "  8.95993774e-01  8.66025404e-01  8.32569855e-01  7.95761841e-01\n",
            "  7.55749574e-01  7.12694171e-01  6.66769001e-01  6.18158986e-01\n",
            "  5.67059864e-01  5.13677392e-01  4.58226522e-01  4.00930535e-01\n",
            "  3.42020143e-01  2.81732557e-01  2.20310533e-01  1.58001396e-01\n",
            "  9.50560433e-02  3.17279335e-02 -3.17279335e-02 -9.50560433e-02\n",
            " -1.58001396e-01 -2.20310533e-01 -2.81732557e-01 -3.42020143e-01\n",
            " -4.00930535e-01 -4.58226522e-01 -5.13677392e-01 -5.67059864e-01\n",
            " -6.18158986e-01 -6.66769001e-01 -7.12694171e-01 -7.55749574e-01\n",
            " -7.95761841e-01 -8.32569855e-01 -8.66025404e-01 -8.95993774e-01\n",
            " -9.22354294e-01 -9.45000819e-01 -9.63842159e-01 -9.78802446e-01\n",
            " -9.89821442e-01 -9.96854776e-01 -9.99874128e-01 -9.98867339e-01\n",
            " -9.93838464e-01 -9.84807753e-01 -9.71811568e-01 -9.54902241e-01\n",
            " -9.34147860e-01 -9.09631995e-01 -8.81453363e-01 -8.49725430e-01\n",
            " -8.14575952e-01 -7.76146464e-01 -7.34591709e-01 -6.90079011e-01\n",
            " -6.42787610e-01 -5.92907929e-01 -5.40640817e-01 -4.86196736e-01\n",
            " -4.29794912e-01 -3.71662456e-01 -3.12033446e-01 -2.51147987e-01\n",
            " -1.89251244e-01 -1.26592454e-01 -6.34239197e-02 -2.44929360e-16]\n"
          ]
        }
      ]
    },
    {
      "cell_type": "markdown",
      "source": [
        "Here we've calculated the vector functions without the usage of for loops d using numpy module because the for loop tends to slow when there are many iterations."
      ],
      "metadata": {
        "id": "iz1aMmNZGlPu"
      }
    },
    {
      "cell_type": "markdown",
      "source": [
        "**21. Diagrams**"
      ],
      "metadata": {
        "id": "1DwDvP0ZGBBJ"
      }
    },
    {
      "cell_type": "code",
      "source": [
        "from numpy import linspace, sin, exp, pi\n",
        "import matplotlib.pyplot as mp\n",
        "# calculate 500 values for x and y without a for loop\n",
        "x = linspace(0, 10*pi, 500)\n",
        "y = sin(x) * exp(-x/10)\n",
        "# make diagram\n",
        "mp.plot(x,y)\n",
        "mp.show()"
      ],
      "metadata": {
        "colab": {
          "base_uri": "https://localhost:8080/",
          "height": 265
        },
        "id": "aso-3I4XGDMb",
        "outputId": "765a51a7-8fa7-474a-a030-fdd24ba23cf8"
      },
      "execution_count": null,
      "outputs": [
        {
          "output_type": "display_data",
          "data": {
            "text/plain": [
              "<Figure size 432x288 with 1 Axes>"
            ],
            "image/png": "[encoded data removed]"
          },
          "metadata": {
            "needs_background": "light"
          }
        }
      ]
    },
    {
      "cell_type": "markdown",
      "source": [
        "By sung the mathplot library, we can able to display the graphs(diagram) for the respective inputs and the python standard plotting library."
      ],
      "metadata": {
        "id": "0HGBGHbRGGo9"
      }
    },
    {
      "cell_type": "markdown",
      "source": [
        "**23. Appendix**"
      ],
      "metadata": {
        "id": "MnAFNODvEjYt"
      }
    },
    {
      "cell_type": "code",
      "source": [
        "#1\n",
        "from numpy import *\n",
        "print(sin(pi/4))\n",
        "# With this import method the following would give an error:\n",
        "#sin = 5 # naming conflict!\n",
        "#print sin(pi/4)"
      ],
      "metadata": {
        "colab": {
          "base_uri": "https://localhost:8080/"
        },
        "id": "xqCB01ycEqF9",
        "outputId": "2433d94b-708f-4df1-bb90-801088473370"
      },
      "execution_count": null,
      "outputs": [
        {
          "output_type": "stream",
          "name": "stdout",
          "text": [
            "0.7071067811865475\n"
          ]
        }
      ]
    },
    {
      "cell_type": "markdown",
      "source": [
        "Here we import numpy function which is  a mathematical function and printing the value of sin(pi/4)."
      ],
      "metadata": {
        "id": "7Ria5HO_E51-"
      }
    },
    {
      "cell_type": "code",
      "source": [
        "#2\n",
        "import numpy as np\n",
        "print(np.sin(np.pi/4))"
      ],
      "metadata": {
        "colab": {
          "base_uri": "https://localhost:8080/"
        },
        "id": "e4wC3NLbFcvU",
        "outputId": "1fa14412-bd2b-4a9a-f2e1-36c055e749e4"
      },
      "execution_count": null,
      "outputs": [
        {
          "output_type": "stream",
          "name": "stdout",
          "text": [
            "0.7071067811865475\n"
          ]
        }
      ]
    },
    {
      "cell_type": "markdown",
      "source": [
        "It is clear to see which function belongs to which module"
      ],
      "metadata": {
        "id": "eSomBLGKFul0"
      }
    },
    {
      "cell_type": "code",
      "source": [
        "from numpy import linspace, sin, exp, pi\n",
        "print(sin(pi/4))"
      ],
      "metadata": {
        "colab": {
          "base_uri": "https://localhost:8080/"
        },
        "id": "KRYdYTZMFxaG",
        "outputId": "311d0b7a-23b5-46d3-a226-6c817e93bcdc"
      },
      "execution_count": null,
      "outputs": [
        {
          "output_type": "stream",
          "name": "stdout",
          "text": [
            "0.7071067811865475\n"
          ]
        }
      ]
    },
    {
      "cell_type": "markdown",
      "source": [
        "simple usage and must keep track of all the used functions and adapt the import statement if a new function is used"
      ],
      "metadata": {
        "id": "M_6aq3JOFyvI"
      }
    }
  ]
}